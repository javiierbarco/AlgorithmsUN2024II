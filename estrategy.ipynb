{
  "cells": [
    {
      "cell_type": "markdown",
      "metadata": {
        "id": "view-in-github",
        "colab_type": "text"
      },
      "source": [
        "<a href=\"https://colab.research.google.com/github/javiierbarco/AlgorithmsUN2024II/blob/main/estrategy.ipynb\" target=\"_parent\"><img src=\"https://colab.research.google.com/assets/colab-badge.svg\" alt=\"Open In Colab\"/></a>"
      ]
    },
    {
      "cell_type": "markdown",
      "metadata": {
        "id": "4JxQgnKuqKTa"
      },
      "source": [
        "#   Q18 Machine Learning Rolling Basis\n",
        "\n",
        "In this example we predict whether the price will rise or fall by using supervised learning (Bayesian Ridge Regression). This template represents a starting point for developing a system which can take part to the **Q18 NASDAQ-100 Stock Long-Short contest**.\n",
        "\n",
        "It consists of two parts.\n",
        "\n",
        "* In the **first part** we just perform a global training of the time series using all time series data. We disregard the sequential aspect of the data and use also future data to train past data.\n",
        "\n",
        "* In the **second part** we use the built-in backtester and perform training and prediction on a rolling basis in order to avoid forward looking. Please note that we are using a **specialized** version of the Quantiacs backtester which dramatically speeds up the the backtesting process by retraining your model on a regular basis.\n",
        "\n",
        "**Features for learning**: we will use several technical indicators trying to capture different features. You can have a look at [**Technical Indicators**](https://quantiacs.com/documentation/en/user_guide/technical_indicators.html).\n",
        "\n",
        "Please note that:\n",
        "\n",
        "* Your trading algorithm can open short and long positions.\n",
        "\n",
        "* At each point in time your algorithm can trade all or a subset of the stocks which at that point of time are or were part of the NASDAQ-100 stock index. Note that the composition of this set changes in time, and Quantiacs provides you with an appropriate filter function for selecting them.\n",
        "\n",
        "* The Sharpe ratio of your system since January 1st, 2006, has to be larger than 1.\n",
        "\n",
        "* Your system cannot be a copy of the current examples. We run a correlation filter on the submissions and detect duplicates.\n",
        "\n",
        "* For simplicity we will use a single asset. It pays off to use more assets, ideally uncorrelated, and diversify your positions for a more solid Sharpe ratio.\n",
        "\n",
        "More details on the rules can be found [here](https://quantiacs.com/contest).\n",
        "\n",
        "**Need help?** Check the [**Documentation**](https://quantiacs.com/documentation/en/) and find solutions/report problems in the [**Forum**](https://quantiacs.com/community/categories) section.\n",
        "\n",
        "**More help with Jupyter?** Check the official [**Jupyter**](https://jupyter.org/) page.\n",
        "\n",
        "Once you are done, click on **Submit to the contest** and take part to our competitions.\n",
        "\n",
        "API reference:\n",
        "\n",
        "* **data**: check how to work with [data](https://quantiacs.com/documentation/en/reference/data_load_functions.html);\n",
        "\n",
        "* **backtesting**: read how to run the [simulation](https://quantiacs.com/documentation/en/reference/evaluation.html) and check the results.\n",
        "\n",
        "Need to use the optimizer function to automate tedious tasks?\n",
        "\n",
        "* **optimization**: read more on our [article](https://quantiacs.com/community/topic/29/optimizing-and-monitoring-a-trading-system-with-quantiacs)."
      ]
    },
    {
      "cell_type": "code",
      "execution_count": null,
      "metadata": {
        "id": "qDP8dBBJqKTe"
      },
      "outputs": [],
      "source": [
        "# %%javascript\n",
        "# IPython.OutputArea.prototype._should_scroll = function(lines) { return false; }\n",
        "# // disable widget scrolling"
      ]
    },
    {
      "cell_type": "code",
      "execution_count": null,
      "metadata": {
        "id": "DkBbhw4QqKTg"
      },
      "outputs": [],
      "source": [
        "import warnings\n",
        "warnings.filterwarnings('ignore')"
      ]
    },
    {
      "cell_type": "code",
      "execution_count": null,
      "metadata": {
        "id": "oXFyPeSnqKTh"
      },
      "outputs": [],
      "source": [
        "import logging\n",
        "\n",
        "import xarray as xr  # xarray for data manipulation\n",
        "\n",
        "import qnt.data as qndata     # functions for loading data\n",
        "import qnt.backtester as qnbt # built-in backtester\n",
        "import qnt.ta as qnta         # technical analysis library\n",
        "import qnt.stats as qnstats   # statistical functions\n",
        "import qnt.output as qnout\n",
        "import qnt.graph as qngraph\n",
        "\n",
        "import pandas as pd\n",
        "import numpy as np\n",
        "\n",
        "import matplotlib.pyplot as plt\n",
        "\n",
        "np.seterr(divide = \"ignore\")\n",
        "\n",
        "from qnt.ta.macd import macd\n",
        "from qnt.ta.rsi  import rsi\n",
        "from qnt.ta.stochastic import stochastic_k, stochastic, slow_stochastic\n",
        "\n",
        "from sklearn import linear_model\n",
        "from sklearn.metrics import r2_score\n",
        "from sklearn.metrics import explained_variance_score\n",
        "from sklearn.metrics import mean_absolute_error"
      ]
    },
    {
      "cell_type": "code",
      "execution_count": null,
      "metadata": {
        "id": "8QPFBSq4qKTh"
      },
      "outputs": [],
      "source": [
        "stock_data  = qndata.stocks_load_spx_data(min_date='2005-06-01')\n",
        "\n",
        "# Verificar los campos disponibles en los datos\n",
        "print(\"Campos disponibles en los datos:\")\n",
        "print(stock_data.field.values)\n",
        "\n",
        "# Extraer el volumen de operaciones (campo \"vol\")\n",
        "volume_data = stock_data.sel(field=\"vol\")\n",
        "\n",
        "# Calcular el volumen promedio por empresa\n",
        "average_volume = volume_data.mean(dim=\"time\")\n",
        "\n",
        "# Ordenar por volumen promedio en orden descendente\n",
        "sorted_assets = average_volume.to_pandas().sort_values(ascending=False)\n",
        "\n",
        "# Seleccionar las 20 empresas con mayor liquidez\n",
        "top_20_liquid_assets = sorted_assets.head(20)\n",
        "\n",
        "# Mostrar las empresas seleccionadas\n",
        "print(\"Las 20 empresas con mayor liquidez:\")\n",
        "print(top_20_liquid_assets)\n",
        "\n",
        "# Filtrar los datos originales para incluir solo estas empresas\n",
        "top_20_data = stock_data.sel(asset=top_20_liquid_assets.index)\n",
        "\n",
        "# Ahora `top_20_data` contiene la información de las 20 empresas seleccionadas.\n"
      ]
    },
    {
      "cell_type": "code",
      "execution_count": null,
      "metadata": {
        "id": "MYJQ87FHqKTi"
      },
      "outputs": [],
      "source": [
        "def get_features(data, selected_assets):\n",
        "    \"\"\"Builds the features used for learning for selected assets:\n",
        "       * a trend indicator;\n",
        "       * the moving average convergence divergence;\n",
        "       * a volatility measure;\n",
        "       * the stochastic oscillator;\n",
        "       * the relative strength index;\n",
        "       * the logarithm of the closing price;\n",
        "       * Bollinger Bands (manual implementation);\n",
        "       * Average True Range (ATR).\n",
        "    \"\"\"\n",
        "\n",
        "    # Filtrar solo las empresas seleccionadas\n",
        "    data = data.sel(asset=selected_assets)\n",
        "\n",
        "    # trend:\n",
        "    trend = qnta.roc(qnta.lwma(data.sel(field=\"close\"), 60), 1)\n",
        "    trend = trend.expand_dims(field=[\"trend\"])\n",
        "\n",
        "    # moving average convergence divergence (MACD):\n",
        "    macd2_signal = qnta.macd(data.sel(field=\"close\"))[1]  # Extract signal line\n",
        "    macd2_signal = macd2_signal.expand_dims(field=[\"macd\"])\n",
        "\n",
        "    # volatility:\n",
        "    volatility = qnta.tr(data.sel(field=\"high\"), data.sel(field=\"low\"), data.sel(field=\"close\"))\n",
        "    volatility = (volatility / data.sel(field=\"close\")).rolling(time=14).mean()\n",
        "    volatility = volatility.expand_dims(field=[\"volatility\"])\n",
        "\n",
        "    # the stochastic oscillator:\n",
        "    _, d = qnta.stochastic(data.sel(field=\"high\"), data.sel(field=\"low\"), data.sel(field=\"close\"), 14)\n",
        "    d = d.expand_dims(field=[\"stochastic_d\"])\n",
        "\n",
        "    # the relative strength index:\n",
        "    rsi = qnta.rsi(data.sel(field=\"close\"))\n",
        "    rsi = rsi.expand_dims(field=[\"rsi\"])\n",
        "\n",
        "    # the logarithm of the closing price:\n",
        "    price = data.sel(field=\"close\").ffill(\"time\").bfill(\"time\").fillna(0)\n",
        "    price = np.log(price)\n",
        "    price = price.expand_dims(field=[\"price\"])\n",
        "\n",
        "    # Bollinger Bands (manual implementation):\n",
        "    close_price = data.sel(field=\"close\")\n",
        "    sma = qnta.lwma(close_price, 20)\n",
        "    rolling_std = close_price.rolling(time=20).std()\n",
        "    upper_band = (sma + 2 * rolling_std).expand_dims(field=[\"upper_band\"])\n",
        "    lower_band = (sma - 2 * rolling_std).expand_dims(field=[\"lower_band\"])\n",
        "\n",
        "    # Average True Range (ATR):\n",
        "    atr = qnta.atr(data.sel(field=\"high\"), data.sel(field=\"low\"), data.sel(field=\"close\"), 14)\n",
        "    atr = atr.expand_dims(field=[\"atr\"])\n",
        "\n",
        "    # combine the features:\n",
        "    result = xr.concat(\n",
        "        [trend, macd2_signal, volatility, d, rsi, price, upper_band, lower_band, atr],\n",
        "        dim=\"field\"\n",
        "    )\n",
        "\n",
        "    return result.transpose(\"time\", \"field\", \"asset\")"
      ]
    },
    {
      "cell_type": "code",
      "execution_count": null,
      "metadata": {
        "id": "3tCO1SwZqKTj"
      },
      "outputs": [],
      "source": [
        "# Suponiendo que ya tienes las empresas seleccionadas en `top_20_liquid_assets.index`\n",
        "selected_assets = top_20_liquid_assets.index\n",
        "\n",
        "# Llamar a la función con los datos filtrados\n",
        "my_features = get_features(stock_data, selected_assets)\n",
        "\n",
        "# Mostrar las características generadas\n",
        "display(my_features.sel(field=\"trend\").to_pandas())\n"
      ]
    },
    {
      "cell_type": "code",
      "execution_count": null,
      "metadata": {
        "id": "Wgmcgu7zqKTk"
      },
      "outputs": [],
      "source": [
        "def get_target_classes(data, selected_assets):\n",
        "    \"\"\" Target classes for predicting if price goes up or down for selected assets. \"\"\"\n",
        "    # Filtrar solo las empresas seleccionadas\n",
        "    data = data.sel(asset=selected_assets)\n",
        "\n",
        "    daily_return = qnta.change(data.sel(field=\"close\")) / (data.sel(field=\"close\").shift(time=+1))\n",
        "    daily_return_future = daily_return.shift(time=-1)\n",
        "\n",
        "    move = 0.005\n",
        "\n",
        "    class_positive = 1  # prices goes up more than move*100%\n",
        "    class_neutral = 0   # price did not move more than move*100%\n",
        "    class_negative = -1 # price goes down more than move*100%\n",
        "\n",
        "    target_price = xr.where(daily_return_future < -move, class_negative, daily_return_future)\n",
        "    target_price = xr.where(target_price > move, class_positive, target_price)\n",
        "    target_price = xr.where(abs(target_price) != 1, class_neutral, target_price)\n",
        "\n",
        "    return target_price\n"
      ]
    },
    {
      "cell_type": "code",
      "execution_count": null,
      "metadata": {
        "id": "NjzjDXPvqKTk"
      },
      "outputs": [],
      "source": [
        "# Suponiendo que ya tienes las empresas seleccionadas en `top_20_liquid_assets.index`\n",
        "selected_assets = top_20_liquid_assets.index\n",
        "\n",
        "# Llamar a la función con los datos filtrados\n",
        "my_targetclass = get_target_classes(stock_data, selected_assets)\n",
        "\n",
        "# Mostrar las clases objetivo generadas\n",
        "display(my_targetclass.to_pandas())\n",
        "\n",
        "selected_assets = [asset.strip() for asset in top_20_liquid_assets.index]\n",
        "\n",
        "data = data.sel(asset=selected_assets)\n"
      ]
    },
    {
      "cell_type": "code",
      "execution_count": null,
      "metadata": {
        "id": "eiNaSm_fqKTl"
      },
      "outputs": [],
      "source": [
        "def get_model():\n",
        "    \"\"\"This is a constructor for the ML model (GradientBoostingRegressor) which can be easily\n",
        "       modified for using different models.\n",
        "    \"\"\"\n",
        "\n",
        "    from sklearn.ensemble import GradientBoostingRegressor\n",
        "\n",
        "    model = GradientBoostingRegressor(\n",
        "        n_estimators=200,\n",
        "        max_depth=5,\n",
        "        learning_rate=0.1,\n",
        "        random_state=42\n",
        "    )\n",
        "    return model\n"
      ]
    },
    {
      "cell_type": "code",
      "execution_count": null,
      "metadata": {
        "id": "nR59uVyCqKTl"
      },
      "outputs": [],
      "source": [
        "# Create and train the models working on an asset-by-asset basis.\n",
        "\n",
        "def train_models(stock_data, my_features, my_targetclass, selected_assets):\n",
        "    \"\"\"Train models for each selected asset.\"\"\"\n",
        "\n",
        "    # Filter data for selected assets\n",
        "    asset_name_all = selected_assets\n",
        "\n",
        "    models = dict()\n",
        "\n",
        "    for asset_name in asset_name_all:\n",
        "\n",
        "        # drop missing values:\n",
        "        target_cur   = my_targetclass.sel(asset=asset_name).dropna(\"time\", \"any\")\n",
        "        features_cur = my_features.sel(asset=asset_name).dropna(\"time\", \"any\")\n",
        "\n",
        "        # align features and targets:\n",
        "        target_for_learn_df, feature_for_learn_df = xr.align(target_cur, features_cur, join=\"inner\")\n",
        "\n",
        "        if len(features_cur.time) < 10:\n",
        "            # not enough points for training\n",
        "            continue\n",
        "\n",
        "        model = get_model()\n",
        "\n",
        "        try:\n",
        "            model.fit(feature_for_learn_df.values, target_for_learn_df)\n",
        "            models[asset_name] = model\n",
        "\n",
        "        except Exception as e:\n",
        "            logging.exception(f\"Model training failed for asset {asset_name}: {e}\")\n",
        "\n",
        "    return models\n",
        "\n",
        "# Example usage:\n",
        "models = train_models(stock_data, my_features, my_targetclass, top_20_liquid_assets.index)\n",
        "print(models)\n"
      ]
    },
    {
      "cell_type": "code",
      "execution_count": null,
      "metadata": {
        "id": "5HSmENqgqKTm"
      },
      "outputs": [],
      "source": [
        "# Showing which features are more important in predicting for the top 5 selected companies:\n",
        "import matplotlib.pyplot as plt\n",
        "\n",
        "# Assuming `models` and `selected_assets` are already defined\n",
        "for asset_name in top_20_liquid_assets.index[:5]:\n",
        "    print(f\"Feature importance for {asset_name}:\")\n",
        "\n",
        "    try:\n",
        "        importance = models[asset_name].feature_importances_\n",
        "\n",
        "        # Display feature importance\n",
        "        for i, v in enumerate(importance):\n",
        "            print('Feature: %0d, Score: %.5f' % (i, v))\n",
        "\n",
        "        # Plot feature importance\n",
        "        plt.bar([x for x in range(len(importance))], importance)\n",
        "        plt.title(f\"Feature Importance for {asset_name}\")\n",
        "        plt.show()\n",
        "\n",
        "    except AttributeError:\n",
        "        print(f\"Model for {asset_name} does not support feature importances.\")\n",
        "    except KeyError:\n",
        "        print(f\"No trained model available for {asset_name}.\")\n",
        "\n",
        "    print(\"\\n\")\n"
      ]
    },
    {
      "cell_type": "code",
      "execution_count": null,
      "metadata": {
        "id": "whFYL9sNqKTn"
      },
      "outputs": [],
      "source": [
        "# Performs prediction and generates output weights for the top 20 selected companies:\n",
        "\n",
        "selected_assets = top_20_liquid_assets.index\n",
        "weights = xr.zeros_like(stock_data.sel(field=\"close\"))\n",
        "\n",
        "for asset_name in selected_assets:\n",
        "    if asset_name in models:\n",
        "        model = models[asset_name]\n",
        "        features_all = my_features\n",
        "        features_cur = features_all.sel(asset=asset_name).dropna(\"time\", \"any\")\n",
        "        if len(features_cur.time) < 1:\n",
        "            continue\n",
        "        try:\n",
        "            weights.loc[dict(asset=asset_name, time=features_cur.time.values)] = model.predict(features_cur.values)\n",
        "        except KeyboardInterrupt as e:\n",
        "            raise e\n",
        "        except Exception as e:\n",
        "            logging.exception(f\"Model prediction failed for asset {asset_name}: {e}\")\n",
        "\n",
        "print(weights)\n"
      ]
    },
    {
      "cell_type": "code",
      "execution_count": null,
      "metadata": {
        "id": "EBI24bgDqKTn"
      },
      "outputs": [],
      "source": [
        "def get_sharpe(stock_data, weights):\n",
        "    \"\"\"Calculates the Sharpe ratio\"\"\"\n",
        "    rr = qnstats.calc_relative_return(stock_data, weights)\n",
        "    sharpe = qnstats.calc_sharpe_ratio_annualized(rr).values[-1]\n",
        "    return sharpe\n",
        "\n",
        "sharpe = get_sharpe(stock_data, weights)\n",
        "sharpe"
      ]
    },
    {
      "cell_type": "markdown",
      "metadata": {
        "id": "WWL1YhkiqKTn"
      },
      "source": [
        "The sharpe ratio using the method above follows from **forward looking**. Predictions for (let us say) 2017 know about the relation between features and targets in 2020. Let us visualize the results:"
      ]
    },
    {
      "cell_type": "code",
      "execution_count": null,
      "metadata": {
        "id": "UGP0iaD8qKTo"
      },
      "outputs": [],
      "source": [
        "import qnt.graph as qngraph\n",
        "\n",
        "statistics = qnstats.calc_stat(stock_data, weights)\n",
        "\n",
        "display(statistics.to_pandas().tail())\n",
        "\n",
        "performance = statistics.to_pandas()[\"equity\"]\n",
        "qngraph.make_plot_filled(performance.index, performance, name=\"PnL (Equity)\", type=\"log\")\n",
        "\n",
        "display(statistics[-1:].sel(field = [\"sharpe_ratio\"]).transpose().to_pandas())\n",
        "\n",
        "# check for correlations with existing strategies:\n",
        "qnstats.print_correlation(weights,stock_data)"
      ]
    },
    {
      "cell_type": "code",
      "execution_count": null,
      "metadata": {
        "id": "AMonrE7mqKTo"
      },
      "outputs": [],
      "source": [
        "# Filtrar los pesos para las empresas seleccionadas\n",
        "filtered_weights = weights.sel(asset=top_20_liquid_assets.index)\n",
        "\n",
        "# Asegurarse de que las dimensiones de tiempo y activos coincidan\n",
        "aligned_target, aligned_weights = xr.align(my_targetclass, filtered_weights, join=\"inner\")\n"
      ]
    },
    {
      "cell_type": "code",
      "execution_count": null,
      "metadata": {
        "id": "lo0h3zf5qKTp"
      },
      "outputs": [],
      "source": [
        "\"\"\"R2 (coefficient of determination) regression score function.\"\"\"\n",
        "r2_score(my_targetclass, weights, multioutput=\"variance_weighted\")"
      ]
    },
    {
      "cell_type": "code",
      "execution_count": null,
      "metadata": {
        "id": "3S0h9bkrqKTp"
      },
      "outputs": [],
      "source": [
        "\"\"\"The explained variance score explains the dispersion of errors of a given dataset\"\"\"\n",
        "explained_variance_score(my_targetclass, weights, multioutput=\"uniform_average\")"
      ]
    },
    {
      "cell_type": "code",
      "execution_count": null,
      "metadata": {
        "id": "rekq5GoBqKTp"
      },
      "outputs": [],
      "source": [
        "\"\"\"The explained variance score explains the dispersion of errors of a given dataset\"\"\"\n",
        "mean_absolute_error(my_targetclass, weights)"
      ]
    },
    {
      "cell_type": "markdown",
      "metadata": {
        "id": "kjtolJ5RqKTq"
      },
      "source": [
        "Let us now use the Quantiacs **backtester** for avoiding **forward looking**.\n",
        "\n",
        "The backtester performs some transformations: it trains the model on one slice of data (using only data from the past) and predicts the weights for the following slice on a rolling basis:"
      ]
    },
    {
      "cell_type": "code",
      "execution_count": null,
      "metadata": {
        "id": "XkEf06tKqKTq"
      },
      "outputs": [],
      "source": [
        "def strategy(data, state=None, mfsp=135, limit=0.0205):\n",
        "    \"\"\"Implements a trading strategy based on ATR and money flow share.\n",
        "\n",
        "    Args:\n",
        "        data (xarray.Dataset): The dataset containing market data.\n",
        "        state: Used in the backtester for stateful strategies.\n",
        "        mfsp (int): Moving average period for money flow share.\n",
        "        limit (float): Threshold for ATR-to-close ratio.\n",
        "\n",
        "    Returns:\n",
        "        xarray.DataArray: Weights for each asset.\n",
        "    \"\"\"\n",
        "    vol = data.sel(field=\"vol\")  ### Volume values\n",
        "    liq = data.sel(field=\"is_liquid\")  ### Liquidity values, 1.0 or 0.0 -> True or False\n",
        "    close = data.sel(field=\"close\")  ### Close prices\n",
        "    high = data.sel(field=\"high\")  ### Daily high\n",
        "    low = data.sel(field=\"low\")  ### Daily low\n",
        "\n",
        "    # Average True Range (ATR) calculation\n",
        "    atrs = qnta.atr(high=high, low=low, close=close, ma=14)  ### 14-day ATR\n",
        "    ratio = atrs / close  ### ATR-to-close ratio indicator\n",
        "\n",
        "    # Strategy condition: Zero weight if ratio exceeds the limit\n",
        "    weights = xr.where(ratio > limit, 0, 1)\n",
        "\n",
        "    # Money flow calculations\n",
        "    money_vol = vol * liq * close  ### Daily money flow per liquid asset\n",
        "    total_money_vol = money_vol.sum(dim='asset', skipna=True)  ### Total daily money flow of liquid assets\n",
        "    money_vol_share = money_vol / total_money_vol  ### Daily money flow share per liquid asset\n",
        "\n",
        "    # Moving average of money flow share\n",
        "    mvs_mov = qnta.sma(money_vol_share, mfsp)  ### 135-day moving average of money flow share\n",
        "\n",
        "    return mvs_mov * weights"
      ]
    },
    {
      "cell_type": "code",
      "execution_count": null,
      "metadata": {
        "id": "ZCqpNnUXqKTq"
      },
      "outputs": [],
      "source": [
        "def train_model(data):\n",
        "    \"\"\"Create and train the model working on an asset-by-asset basis.\"\"\"\n",
        "\n",
        "    # Asegúrate de que los nombres de los activos coincidan\n",
        "    selected_assets = [asset for asset in top_20_liquid_assets.index if asset in data.coords[\"asset\"].values]\n",
        "    data = data.sel(asset=selected_assets)\n",
        "\n",
        "    asset_name_all = data.coords[\"asset\"].values\n",
        "    features_all   = get_features(data, selected_assets)\n",
        "    target_all     = get_target_classes(data, selected_assets)\n",
        "\n",
        "    models = dict()\n",
        "\n",
        "    for asset_name in asset_name_all:\n",
        "        # drop missing values:\n",
        "        target_cur   = target_all.sel(asset=asset_name).dropna(\"time\", \"any\")\n",
        "        features_cur = features_all.sel(asset=asset_name).dropna(\"time\", \"any\")\n",
        "\n",
        "        # align features and targets:\n",
        "        target_for_learn_df, feature_for_learn_df = xr.align(target_cur, features_cur, join=\"inner\")\n",
        "\n",
        "        if len(features_cur.time) < 10:\n",
        "            # not enough points for training\n",
        "            continue\n",
        "\n",
        "        model = get_model()\n",
        "\n",
        "        try:\n",
        "            model.fit(feature_for_learn_df.values, target_for_learn_df)\n",
        "            models[asset_name] = model\n",
        "\n",
        "        except Exception as e:\n",
        "            logging.exception(f\"Model training failed for asset {asset_name}: {e}\")\n",
        "\n",
        "    # Incorporar lógica de estrategia al entrenamiento\n",
        "    try:\n",
        "        strategy_weights = strategy(data)\n",
        "        logging.info(\"Strategy weights calculated and used as additional feature.\")\n",
        "    except Exception as e:\n",
        "        logging.exception(f\"Strategy weight calculation failed: {e}\")\n",
        "\n",
        "    return models\n"
      ]
    },
    {
      "cell_type": "code",
      "execution_count": null,
      "metadata": {
        "id": "RC1bO6-ZqKTr"
      },
      "outputs": [],
      "source": [
        "def predict_weights(models, data, selected_assets):\n",
        "    \"\"\"The model predicts if the price is going up or down.\n",
        "       The prediction is performed for several days in order to speed up the evaluation.\n",
        "    \"\"\"\n",
        "\n",
        "    # Filtrar los activos disponibles\n",
        "    available_assets = [asset for asset in selected_assets if asset in data.coords[\"asset\"].values]\n",
        "    data = data.sel(asset=available_assets)\n",
        "\n",
        "    weights = xr.zeros_like(data.sel(field=\"close\"))\n",
        "\n",
        "    for asset_name in available_assets:\n",
        "        if asset_name in models:\n",
        "            model = models[asset_name]\n",
        "            features_all = get_features(data, available_assets)\n",
        "            features_cur = features_all.sel(asset=asset_name).dropna(\"time\", \"any\")\n",
        "\n",
        "            if len(features_cur.time) < 1:\n",
        "                continue\n",
        "\n",
        "            try:\n",
        "                # Realizar predicciones con el modelo\n",
        "                model_predictions = model.predict(features_cur.values)\n",
        "                weights.loc[dict(asset=asset_name, time=features_cur.time.values)] = model_predictions\n",
        "            except KeyboardInterrupt as e:\n",
        "                raise e\n",
        "            except Exception as e:\n",
        "                logging.exception(f\"Model prediction failed for asset {asset_name}: {e}\")\n",
        "\n",
        "    try:\n",
        "        # Incorporar lógica de estrategia en los pesos\n",
        "        strategy_weights = strategy(data)\n",
        "        weights = weights * strategy_weights  # Combinar predicciones del modelo con pesos de la estrategia\n",
        "        logging.info(\"Strategy weights applied to model predictions.\")\n",
        "    except Exception as e:\n",
        "        logging.exception(f\"Strategy weight calculation failed: {e}\")\n",
        "\n",
        "    return weights\n",
        "\n"
      ]
    },
    {
      "cell_type": "code",
      "execution_count": null,
      "metadata": {
        "id": "27QS7h8tqKTr"
      },
      "outputs": [],
      "source": [
        "weights = qnbt.backtest_ml(\n",
        "    train                         = train_model,\n",
        "    predict                       = lambda m, d: predict_weights(m, d, top_20_liquid_assets.index),\n",
        "    train_period                  = 2 * 365,\n",
        "    retrain_interval              = 10 * 365,\n",
        "    retrain_interval_after_submit = 1,\n",
        "    predict_each_day              = False,\n",
        "    competition_type              = \"stocks_nasdaq100\",\n",
        "    lookback_period               = 365,\n",
        "    start_date                    = \"2005-01-01\",\n",
        "    analyze                       = True,\n",
        "    build_plots                   = True\n",
        ")\n"
      ]
    },
    {
      "cell_type": "markdown",
      "metadata": {
        "id": "9RK5cGOQqKTr"
      },
      "source": [
        "The Sharpe ratio is obviously smaller as the training process is not looking forward (as it happens by processing data on a global basis), but performed on a rolling basis."
      ]
    },
    {
      "cell_type": "markdown",
      "metadata": {
        "id": "ZN4EfS7YqKTr"
      },
      "source": [
        "# May I import libraries?\n",
        "\n",
        "Yes, please refer to the file **init.ipynb** in your home directory. You can for example use:\n",
        "\n",
        "! conda install -y scikit-learn"
      ]
    },
    {
      "cell_type": "markdown",
      "metadata": {
        "id": "xvIVluXEqKTs"
      },
      "source": [
        "# How to load data?\n",
        "\n",
        "Daily stock data for the **Q18 Nasdaq-100** contest can be loaded using:\n",
        "```python\n",
        "data = qndata.stocks.load_ndx_data(tail = 17*365, dims = (\"time\", \"field\", \"asset\"))\n",
        "```\n",
        "\n",
        "Cryptocurrency daily data used for the Q16/Q17 contests can be loaded using:\n",
        "```python\n",
        "data = qndata.cryptodaily.load_data(tail = 17*365, dims = (\"time\", \"field\", \"asset\"))\n",
        "```\n",
        "\n",
        "Futures data for the Q15 contest can be loaded using:\n",
        "```python\n",
        "data= qndata.futures.load_data(tail = 17*365, dims = (\"time\", \"field\", \"asset\"))\n",
        "```\n",
        "\n",
        "BTC Futures data for the Q15 contest can be loaded using:\n",
        "```python\n",
        "data= qndata.cryptofutures.load_data(tail = 17*365, dims = (\"time\", \"field\", \"asset\"))\n",
        "```"
      ]
    },
    {
      "cell_type": "markdown",
      "metadata": {
        "id": "9_F0M7vLqKTs"
      },
      "source": [
        "# How to view a list of all tickers?\n",
        "\n",
        "```python\n",
        "data.asset.to_pandas().to_list()\n",
        "```"
      ]
    },
    {
      "cell_type": "markdown",
      "metadata": {
        "id": "ImNomIh_qKTs"
      },
      "source": [
        "# How to see which fields are available?\n",
        "\n",
        "```python\n",
        "data.field.to_pandas().to_list()\n",
        "```"
      ]
    },
    {
      "cell_type": "markdown",
      "metadata": {
        "id": "vHu71CBxqKTs"
      },
      "source": [
        "# How to load specific tickers?\n",
        "\n",
        "```python\n",
        "data = qndata.stocks.load_ndx_data(tail=17 * 365, assets=[\"NAS:AAPL\", \"NAS:AMZN\"])\n",
        "```"
      ]
    },
    {
      "cell_type": "markdown",
      "metadata": {
        "id": "nM2BBCKpqKTs"
      },
      "source": [
        "# How to select specific tickers after loading all data?\n",
        "\n",
        "```python\n",
        "def get_data_filter(data, assets):\n",
        "    filler= data.sel(asset=assets)\n",
        "    return filler\n",
        "\n",
        "get_data_filter(data, [\"NAS:AAPL\", \"NAS:AMZN\"])\n",
        "```"
      ]
    },
    {
      "cell_type": "markdown",
      "metadata": {
        "id": "f548CCE9qKTs"
      },
      "source": [
        "# How to get the prices for the previous day?\n",
        "\n",
        "```python\n",
        "qnta.shift(data.sel(field=\"open\"), periods=1)\n",
        "```\n",
        "\n",
        "or:\n",
        "\n",
        "```python\n",
        "data.sel(field=\"open\").shift(time=1)\n",
        "```"
      ]
    },
    {
      "cell_type": "markdown",
      "metadata": {
        "id": "6QgE4lo1qKTt"
      },
      "source": [
        "# How to get the Sharpe ratio?\n",
        "\n",
        "```python\n",
        "import qnt.stats as qnstats\n",
        "\n",
        "def get_sharpe(market_data, weights):\n",
        "    rr = qnstats.calc_relative_return(market_data, weights)\n",
        "    sharpe = qnstats.calc_sharpe_ratio_annualized(rr).values[-1]\n",
        "    return sharpe\n",
        "\n",
        "sharpe = get_sharpe(data, weights) # weights.sel(time=slice(\"2006-01-01\",None))\n",
        "```"
      ]
    },
    {
      "cell_type": "markdown",
      "metadata": {
        "id": "ZrpwG1NaqKTt"
      },
      "source": [
        "# How do I get a list of the top 3 assets ranked by Sharpe ratio?\n",
        "\n",
        "```python\n",
        "import qnt.stats as qnstats\n",
        "\n",
        "data = qndata.stocks.load_ndx_data(tail = 17*365, dims = (\"time\", \"field\", \"asset\"))\n",
        "\n",
        "def get_best_instruments(data, weights, top_size):\n",
        "    # compute statistics:\n",
        "    stats_per_asset = qnstats.calc_stat(data, weights, per_asset=True)\n",
        "    # calculate ranks of assets by \"sharpe_ratio\":\n",
        "    ranks = (-stats_per_asset.sel(field=\"sharpe_ratio\")).rank(\"asset\")\n",
        "    # select top assets by rank \"top_period\" days ago:\n",
        "    top_period = 1\n",
        "    rank = ranks.isel(time=-top_period)\n",
        "    top = rank.where(rank <= top_size).dropna(\"asset\").asset\n",
        "\n",
        "    # select top stats:\n",
        "    top_stats = stats_per_asset.sel(asset=top.values)\n",
        "\n",
        "    # print results:\n",
        "    print(\"SR tail of the top assets:\")\n",
        "    display(top_stats.sel(field=\"sharpe_ratio\").to_pandas().tail())\n",
        "\n",
        "    print(\"avg SR = \", top_stats[-top_period:].sel(field=\"sharpe_ratio\").mean(\"asset\")[-1].item())\n",
        "    display(top_stats)\n",
        "    return top_stats.coords[\"asset\"].values\n",
        "\n",
        "get_best_instruments(data, weights, 3)\n",
        "```"
      ]
    },
    {
      "cell_type": "markdown",
      "metadata": {
        "id": "KDfhBRXEqKTt"
      },
      "source": [
        "# How can I check the results for only the top 3 assets ranked by Sharpe ratio?\n",
        "\n",
        "Select the top assets and then load their data:\n",
        "\n",
        "```python\n",
        "best_assets= get_best_instruments(data, weights, 3)\n",
        "\n",
        "data= qndata.stocks.load_ndx_data(tail = 17*365, assets=best_assets)\n",
        "```"
      ]
    },
    {
      "cell_type": "markdown",
      "metadata": {
        "id": "m2HtT2eHqKTt"
      },
      "source": [
        "# How can prices be processed?\n",
        "\n",
        "Simply import standard libraries, for example **numpy**:\n",
        "\n",
        "```python\n",
        "import numpy as np\n",
        "\n",
        "high= np.log(data.sel(field=\"high\"))\n",
        "```"
      ]
    },
    {
      "cell_type": "markdown",
      "metadata": {
        "id": "CBZSuVbiqKTt"
      },
      "source": [
        "# How can you reduce slippage impace when trading?\n",
        "\n",
        "Just apply some technique to reduce turnover:\n",
        "\n",
        "```python\n",
        "def get_lower_slippage(weights, rolling_time=6):\n",
        "    return weights.rolling({\"time\": rolling_time}).max()\n",
        "\n",
        "improved_weights = get_lower_slippage(weights, rolling_time=6)\n",
        "```"
      ]
    },
    {
      "cell_type": "markdown",
      "metadata": {
        "id": "nYTfJOSpqKTt"
      },
      "source": [
        "# How to use technical analysis indicators?\n",
        "\n",
        "For available indicators see the source code of the library: /qnt/ta\n",
        "\n",
        "## ATR\n",
        "\n",
        "```python\n",
        "def get_atr(data, days=14):\n",
        "    high = data.sel(field=\"high\") * 1.0\n",
        "    low  = data.sel(field=\"low\") * 1.0\n",
        "    close= data.sel(field=\"close\") * 1.0\n",
        "\n",
        "    return qnta.atr(high, low, close, days)\n",
        "\n",
        "atr= get_atr(data, days=14)\n",
        "```\n",
        "\n",
        "## EMA\n",
        "\n",
        "```python\n",
        "prices= data.sel(field=\"high\")\n",
        "prices_ema= qnta.ema(prices, 15)\n",
        "```\n",
        "\n",
        "## TRIX\n",
        "\n",
        "```python\n",
        "prices= data.sel(field=\"high\")\n",
        "prices_trix= qnta.trix(prices, 15)\n",
        "```\n",
        "\n",
        "## ADL and EMA\n",
        "\n",
        "```python\n",
        "adl= qnta.ad_line(data.sel(field=\"close\")) * 1.0\n",
        "adl_ema= qnta.ema(adl, 18)\n",
        "```"
      ]
    },
    {
      "cell_type": "markdown",
      "metadata": {
        "id": "yn9G-wN-qKT1"
      },
      "source": [
        "# How can you check the quality of your strategy?\n",
        "\n",
        "```python\n",
        "import qnt.output as qnout\n",
        "qnout.check(weights, data, \"stocks_nasdaq100\")\n",
        "```\n",
        "\n",
        "or\n",
        "\n",
        "```python\n",
        "stat= qnstats.calc_stat(data, weights)\n",
        "display(stat.to_pandas().tail())\n",
        "```\n",
        "\n",
        "or\n",
        "\n",
        "```python\n",
        "import qnt.graph   as qngraph\n",
        "statistics= qnstats.calc_stat(data, weights)\n",
        "display(statistics.to_pandas().tail())\n",
        "\n",
        "performance= statistics.to_pandas()[\"equity\"]\n",
        "qngraph.make_plot_filled(performance.index, performance, name=\"PnL (Equity)\", type=\"log\")\n",
        "\n",
        "display(statistics[-1:].sel(field = [\"sharpe_ratio\"]).transpose().to_pandas())\n",
        "qnstats.print_correlation(weights, data)\n",
        "\n",
        "```"
      ]
    },
    {
      "cell_type": "markdown",
      "metadata": {
        "id": "CaumCLYdqKT1"
      },
      "source": [
        "# An example using pandas\n",
        "\n",
        "One can work with pandas DataFrames at intermediate steps and at the end convert them to xarray data structures:\n",
        "\n",
        "```python\n",
        "def get_price_pct_change(prices):\n",
        "    prices_pandas = prices.to_pandas()\n",
        "    assets = data.coords[\"asset\"].values\n",
        "    for asset in assets:\n",
        "        prices_pandas[asset] = prices_pandas[asset].pct_change()\n",
        "    return prices_pandas\n",
        "\n",
        "prices = data.sel(field=\"close\") * 1.0\n",
        "prices_pct_change = get_price_pct_change(prices).unstack().to_xarray()\n",
        "```"
      ]
    },
    {
      "cell_type": "markdown",
      "metadata": {
        "id": "a226TohgqKT2"
      },
      "source": [
        "# How to submit a strategy to the competition?\n",
        "\n",
        "Check that weights are fine:\n",
        "\n",
        "```python\n",
        "import qnt.output as qnout\n",
        "qnout.check(weights, data, \"stocks_nasdaq100\")\n",
        "```\n",
        "\n",
        "If everything is ok, write the weights to file:\n",
        "\n",
        "```python\n",
        "qnout.write(weights)\n",
        "```\n",
        "\n",
        "In your **personal account**:\n",
        "\n",
        "* **choose** a strategy;\n",
        "* click on the **Submit** button;\n",
        "* select the type of competition.\n",
        "\n",
        "At the beginning you will find the strategy under the **Checking** area:\n",
        "\n",
        "* **Sent strategies** > **Checking**.\n",
        "\n",
        "If technical checks are successful, the strategy will go under the **Candidates** area:\n",
        "\n",
        "* **Sent strategies** > **Candidates**.\n",
        "\n",
        "Otherwise it will be **Filtered**:\n",
        "\n",
        "* **Sent strategies** > **Filtered**\n",
        "\n",
        "and you should inspect error and warning messages.\n",
        "\n",
        "Note that a strategy under the **Candidates** area should have a Sharpe ratio larger than 1 for being eligible for a prize. Please check warning messages in your **Candidates** area!"
      ]
    }
  ],
  "metadata": {
    "colab": {
      "provenance": [],
      "include_colab_link": true
    },
    "kernelspec": {
      "display_name": "Python 3 (ipykernel)",
      "language": "python",
      "name": "python3"
    },
    "language_info": {
      "codemirror_mode": {
        "name": "ipython",
        "version": 3
      },
      "file_extension": ".py",
      "mimetype": "text/x-python",
      "name": "python",
      "nbconvert_exporter": "python",
      "pygments_lexer": "ipython3"
    }
  },
  "nbformat": 4,
  "nbformat_minor": 0
}