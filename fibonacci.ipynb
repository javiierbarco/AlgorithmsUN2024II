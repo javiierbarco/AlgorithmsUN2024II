{
  "nbformat": 4,
  "nbformat_minor": 0,
  "metadata": {
    "colab": {
      "provenance": [],
      "authorship_tag": "ABX9TyOnuB0bb76F+cCNe18Ppj43",
      "include_colab_link": true
    },
    "kernelspec": {
      "name": "python3",
      "display_name": "Python 3"
    },
    "language_info": {
      "name": "python"
    }
  },
  "cells": [
    {
      "cell_type": "markdown",
      "metadata": {
        "id": "view-in-github",
        "colab_type": "text"
      },
      "source": [
        "<a href=\"https://colab.research.google.com/github/javiierbarco/AlgorithmsUN2024II/blob/main/fibonacci.ipynb\" target=\"_parent\"><img src=\"https://colab.research.google.com/assets/colab-badge.svg\" alt=\"Open In Colab\"/></a>"
      ]
    },
    {
      "cell_type": "code",
      "source": [
        "import numpy as np\n",
        "from time import process_time\n",
        "from math import gcd, lcm\n",
        "from collections import Counter\n",
        "\n",
        "def matrix_mult(A, B, mod):\n",
        "    return np.mod(np.dot(A, B), mod)\n",
        "\n",
        "def matrix_exponentiation(matrix, exp, mod):\n",
        "    result = np.eye(len(matrix), dtype=int)\n",
        "    base = matrix.copy()\n",
        "\n",
        "    while exp:\n",
        "        if exp % 2:\n",
        "            result = matrix_mult(result, base, mod)\n",
        "        base = matrix_mult(base, base, mod)\n",
        "        exp //= 2\n",
        "\n",
        "    return result\n",
        "\n",
        "def fibonacci_mod(n, mod=10**9+7):\n",
        "    if n == 0:\n",
        "        return 0\n",
        "    if n == 1:\n",
        "        return 1\n",
        "\n",
        "    F = np.array([[1, 1], [1, 0]], dtype=int)\n",
        "    result = matrix_exponentiation(F, n-1, mod)\n",
        "\n",
        "    return result[0][0]\n",
        "\n",
        "def dist_gcd(n):\n",
        "    gcd_counts = Counter()\n",
        "    total_sum = 0\n",
        "    sample_pairs = []\n",
        "\n",
        "    for i in range(1, n+1):\n",
        "        for j in range(1, n+1):\n",
        "            g = gcd(i, j)\n",
        "            gcd_counts[g] += 1\n",
        "            total_sum += g\n",
        "            if len(sample_pairs) < 4 and (i, j) not in sample_pairs:\n",
        "                sample_pairs.append((i, j))\n",
        "\n",
        "    avg_gcd = total_sum / (n * n)\n",
        "    most_frequent = max(gcd_counts.values())\n",
        "\n",
        "    return dict(gcd_counts), avg_gcd, most_frequent, sample_pairs\n",
        "\n",
        "def lowest_common_multiple(a, b):\n",
        "    return lcm(a, b)\n",
        "\n",
        "def gcd_euclidean_algorithm(a, b):\n",
        "    while b:\n",
        "        a, b = b, a % b\n",
        "    return a\n",
        "\n",
        "# Prueba de rendimiento\n",
        "def test_fibonacci(n, mod=10**9+7):\n",
        "    t0 = process_time()\n",
        "    fib_n = fibonacci_mod(n, mod)\n",
        "    tf = process_time()\n",
        "    print(f\"n={n}, fib({n})={fib_n}, tiempo={tf - t0:.6f} segundos\")\n",
        "\n",
        "def test_dist_gcd(n):\n",
        "    t0 = process_time()\n",
        "    result = dist_gcd(n)\n",
        "    tf = process_time()\n",
        "    print(f\"n={n}, dist_gcd({n})={result}, tiempo={tf - t0:.6f} segundos\")\n",
        "\n",
        "def test_lowest_common_multiple(a, b):\n",
        "    t0 = process_time()\n",
        "    lcm_value = lowest_common_multiple(a, b)\n",
        "    tf = process_time()\n",
        "    print(f\"LCM({a}, {b})={lcm_value}, tiempo={tf - t0:.6f} segundos\")\n",
        "\n",
        "def test_gcd_euclidean_algorithm(a, b):\n",
        "    t0 = process_time()\n",
        "    gcd_value = gcd_euclidean_algorithm(a, b)\n",
        "    tf = process_time()\n",
        "    print(f\"GCD({a}, {b})={gcd_value}, tiempo={tf - t0:.6f} segundos\")\n"
      ],
      "metadata": {
        "id": "socqsgxtjuQT"
      },
      "execution_count": 19,
      "outputs": []
    },
    {
      "cell_type": "code",
      "source": [
        "n = int(input(\"Ingresa un número: \"))\n",
        "b = int(input(\"Ingresa un número: \"))\n",
        "test_fibonacci(n)\n",
        "test_dist_gcd(n)\n",
        "test_lowest_common_multiple(n,b)\n",
        "test_gcd_euclidean_algorithm(n,b)"
      ],
      "metadata": {
        "colab": {
          "base_uri": "https://localhost:8080/"
        },
        "id": "_kS1NZU5kSAL",
        "outputId": "57cf09a4-932e-466d-a199-0a32e28dfc35"
      },
      "execution_count": 20,
      "outputs": [
        {
          "output_type": "stream",
          "name": "stdout",
          "text": [
            "Ingresa un número: 10\n",
            "Ingresa un número: 10\n",
            "n=10, fib(10)=55, tiempo=0.000229 segundos\n",
            "n=10, dist_gcd(10)=({1: 63, 2: 19, 3: 7, 4: 3, 5: 3, 6: 1, 7: 1, 8: 1, 9: 1, 10: 1}, 1.89, 63, [(1, 1), (1, 2), (1, 3), (1, 4)]), tiempo=0.000071 segundos\n",
            "LCM(10, 10)=10, tiempo=0.000003 segundos\n",
            "GCD(10, 10)=10, tiempo=0.000003 segundos\n"
          ]
        }
      ]
    },
    {
      "cell_type": "code",
      "source": [],
      "metadata": {
        "id": "m8BwUwV3kgBc"
      },
      "execution_count": null,
      "outputs": []
    }
  ]
}