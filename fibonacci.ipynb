{
  "nbformat": 4,
  "nbformat_minor": 0,
  "metadata": {
    "colab": {
      "provenance": [],
      "authorship_tag": "ABX9TyNTVHOdNLq+FghxXZuHB4V9",
      "include_colab_link": true
    },
    "kernelspec": {
      "name": "python3",
      "display_name": "Python 3"
    },
    "language_info": {
      "name": "python"
    }
  },
  "cells": [
    {
      "cell_type": "markdown",
      "metadata": {
        "id": "view-in-github",
        "colab_type": "text"
      },
      "source": [
        "<a href=\"https://colab.research.google.com/github/javiierbarco/AlgorithmsUN2024II/blob/main/fibonacci.ipynb\" target=\"_parent\"><img src=\"https://colab.research.google.com/assets/colab-badge.svg\" alt=\"Open In Colab\"/></a>"
      ]
    },
    {
      "cell_type": "code",
      "source": [
        "import numpy as np  # Importa la librería NumPy para operaciones matriciales\n",
        "from time import process_time  # Importa la función process_time para medir el tiempo de ejecución\n",
        "from math import gcd, lcm  # Importa gcd (Máximo Común Divisor) y lcm (Mínimo Común Múltiplo) de la librería math\n",
        "from collections import Counter  # Importa Counter para contar la frecuencia de valores en un diccionario\n",
        "\n",
        "# Función para multiplicar dos matrices con módulo\n",
        "def matrix_mult(A, B, mod):\n",
        "    return np.mod(np.dot(A, B), mod)  # Realiza la multiplicación matricial y aplica el módulo\n",
        "\n",
        "# Función para la exponenciación rápida de una matriz con módulo\n",
        "def matrix_exponentiation(matrix, exp, mod):\n",
        "    result = np.eye(len(matrix), dtype=int)  # Crea la matriz identidad del mismo tamaño que la matriz dada\n",
        "    base = matrix.copy()  # Copia la matriz base para no modificar la original\n",
        "\n",
        "    while exp:  # Itera mientras el exponente sea mayor que 0\n",
        "        if exp % 2:  # Si el exponente es impar, multiplica result por base\n",
        "            result = matrix_mult(result, base, mod)\n",
        "        base = matrix_mult(base, base, mod)  # Eleva base al cuadrado\n",
        "        exp //= 2  # Divide el exponente por 2\n",
        "\n",
        "    return result  # Retorna la matriz resultante\n",
        "\n",
        "# Función para calcular el n-ésimo número de Fibonacci con módulo\n",
        "def fibonacci_mod(n, mod=10**9+7):\n",
        "    if n == 0:  # Caso base: Fibonacci(0) = 0\n",
        "        return 0\n",
        "    if n == 1:  # Caso base: Fibonacci(1) = 1\n",
        "        return 1\n",
        "\n",
        "    F = np.array([[1, 1], [1, 0]], dtype=int)  # Matriz base de Fibonacci\n",
        "    result = matrix_exponentiation(F, n-1, mod)  # Eleva la matriz F a la potencia (n-1) usando la exponenciación rápida\n",
        "\n",
        "    return result[0][0]  # Devuelve el valor en la posición (0,0) de la matriz resultante\n",
        "\n",
        "from collections import defaultdict  # Importa defaultdict para manejar valores por defecto en diccionarios\n",
        "\n",
        "# Función recursiva para calcular el MCD con el algoritmo de Euclides y contar divisiones\n",
        "def gcd_recursive(a, b, count=0):\n",
        "    if b == 0:  # Caso base: si b es 0, devuelve a y el número de divisiones\n",
        "        return a, count\n",
        "    return gcd_recursive(b, a % b, count + 1)  # Llamada recursiva con (b, a % b) y aumentando el contador\n",
        "\n",
        "# Función para analizar la distribución del número de divisiones en el cálculo del MCD\n",
        "def dist_gcd(n):\n",
        "    gcd_counts = Counter()  # Diccionario para contar cuántas veces ocurre cada cantidad de divisiones\n",
        "    total_divisions = 0  # Acumulador de total de divisiones\n",
        "    max_divisions = 0  # Variable para rastrear el máximo número de divisiones\n",
        "    worst_cases = []  # Lista de los peores casos (pares de números que requieren más divisiones)\n",
        "    cases_tested = 0  # Contador de pares de números probados\n",
        "\n",
        "    for a in range(1, n + 1):  # Itera sobre los valores de 'a' desde 1 hasta n\n",
        "        for b in range(a):  # Itera sobre los valores de 'b' desde 0 hasta a-1 (evita repeticiones innecesarias)\n",
        "            _, divisions = gcd_recursive(a, b)  # Calcula el MCD y obtiene el número de divisiones\n",
        "            gcd_counts[divisions] += 1  # Incrementa la cuenta de divisiones específicas\n",
        "            total_divisions += divisions  # Acumula el total de divisiones\n",
        "            cases_tested += 1  # Cuenta el número total de casos probados\n",
        "\n",
        "            if divisions > max_divisions:  # Si se encuentra un nuevo máximo de divisiones:\n",
        "                max_divisions = divisions  # Actualiza el máximo de divisiones\n",
        "                worst_cases = [[a, b]]  # Reinicia la lista de peores casos con el nuevo máximo\n",
        "            elif divisions == max_divisions:  # Si es igual al máximo registrado:\n",
        "                worst_cases.append([a, b])  # Agrega el par (a, b) a la lista de peores casos\n",
        "\n",
        "    worst_cases = worst_cases[::-1]  # Invierte la lista de peores casos para mantener el orden esperado\n",
        "\n",
        "    avg_divisions = total_divisions / cases_tested if cases_tested else 0  # Calcula el promedio de divisiones\n",
        "\n",
        "    sorted_distribution = {k: v for k, v in sorted(gcd_counts.items())}  # Ordena la distribución por número de divisiones\n",
        "\n",
        "    return sorted_distribution, avg_divisions, cases_tested, worst_cases  # Retorna la distribución, el promedio y los peores casos\n",
        "\n",
        "# Función para calcular el mínimo común múltiplo usando lcm de Python\n",
        "def lowest_common_multiple(a, b):\n",
        "    return lcm(a, b)  # Devuelve el mínimo común múltiplo de 'a' y 'b'\n",
        "\n",
        "# Función iterativa para calcular el MCD usando el Algoritmo de Euclides\n",
        "def gcd_euclidean_algorithm(a, b):\n",
        "    while b:  # Mientras 'b' no sea cero\n",
        "        a, b = b, a % b  # Reemplaza 'a' por 'b' y 'b' por 'a mod b'\n",
        "    return a  # Devuelve el MCD\n",
        "\n",
        "# Función para probar la eficiencia del cálculo de Fibonacci\n",
        "def test_fibonacci(n, mod=10**9+7):\n",
        "    t0 = process_time()  # Toma el tiempo inicial\n",
        "    fib_n = fibonacci_mod(n, mod)  # Calcula Fibonacci(n)\n",
        "    tf = process_time()  # Toma el tiempo final\n",
        "    print(f\"n={n}, fib({n})={fib_n}, tiempo={tf - t0:.6f} segundos\")  # Imprime el resultado y el tiempo de ejecución\n",
        "\n",
        "# Función para probar la distribución del número de divisiones en el MCD\n",
        "def test_dist_gcd(n):\n",
        "    t0 = process_time()  # Toma el tiempo inicial\n",
        "    result = dist_gcd(n)  # Calcula la distribución del MCD\n",
        "    tf = process_time()  # Toma el tiempo final\n",
        "    print(f\"n={n}, dist_gcd({n})={result}, tiempo={tf - t0:.6f} segundos\")  # Imprime el resultado y el tiempo de ejecución\n",
        "\n",
        "# Función para probar el cálculo del mínimo común múltiplo\n",
        "def test_lowest_common_multiple(a, b):\n",
        "    t0 = process_time()  # Toma el tiempo inicial\n",
        "    lcm_value = lowest_common_multiple(a, b)  # Calcula el MCM de a y b\n",
        "    tf = process_time()  # Toma el tiempo final\n",
        "    print(f\"LCM({a}, {b})={lcm_value}, tiempo={tf - t0:.6f} segundos\")  # Imprime el resultado y el tiempo de ejecución\n",
        "\n",
        "# Función para probar el cálculo del MCD con el algoritmo de Euclides\n",
        "def test_gcd_euclidean_algorithm(a, b):\n",
        "    t0 = process_time()  # Toma el tiempo inicial\n",
        "    gcd_value = gcd_euclidean_algorithm(a, b)  # Calcula el MCD de a y b\n",
        "    tf = process_time()  # Toma el tiempo final\n",
        "    print(f\"GCD({a}, {b})={gcd_value}, tiempo={tf - t0:.6f} segundos\")  # Imprime el resultado y el tiempo de ejecución\n",
        "\n"
      ],
      "metadata": {
        "id": "socqsgxtjuQT"
      },
      "execution_count": 24,
      "outputs": []
    },
    {
      "cell_type": "code",
      "source": [
        "n = int(input(\"Ingresa un número: \"))\n",
        "b = int(input(\"Ingresa un número: \"))\n",
        "test_fibonacci(n)\n",
        "test_dist_gcd(n)\n",
        "test_lowest_common_multiple(n,b)\n",
        "test_gcd_euclidean_algorithm(n,b)"
      ],
      "metadata": {
        "colab": {
          "base_uri": "https://localhost:8080/"
        },
        "id": "_kS1NZU5kSAL",
        "outputId": "f5ed3709-43fb-41a5-ce28-ce4cb9249031"
      },
      "execution_count": 26,
      "outputs": [
        {
          "output_type": "stream",
          "name": "stdout",
          "text": [
            "Ingresa un número: 4\n",
            "Ingresa un número: 4\n",
            "n=4, fib(4)=3, tiempo=0.000128 segundos\n",
            "n=4, dist_gcd(4)=({0: 4, 1: 4, 2: 2}, 0.8, 10, [[4, 3], [3, 2]]), tiempo=0.000041 segundos\n",
            "LCM(4, 4)=4, tiempo=0.000004 segundos\n",
            "GCD(4, 4)=4, tiempo=0.000002 segundos\n"
          ]
        }
      ]
    },
    {
      "cell_type": "code",
      "source": [],
      "metadata": {
        "id": "m8BwUwV3kgBc"
      },
      "execution_count": null,
      "outputs": []
    }
  ]
}